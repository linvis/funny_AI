{
 "cells": [
  {
   "cell_type": "code",
   "execution_count": 63,
   "metadata": {},
   "outputs": [],
   "source": [
    "import pandas as pd\n",
    "import numpy as np\n",
    "import jieba\n",
    "import re"
   ]
  },
  {
   "cell_type": "code",
   "execution_count": 4,
   "metadata": {},
   "outputs": [
    {
     "name": "stdout",
     "output_type": "stream",
     "text": [
      "\u001b[1m\u001b[36mai_challenger_sentiment_analysis_testa_20180816\u001b[m\u001b[m\r\n",
      "\u001b[1m\u001b[36mai_challenger_sentiment_analysis_trainingset_20180816\u001b[m\u001b[m\r\n",
      "\u001b[1m\u001b[36mai_challenger_sentiment_analysis_validationset_20180816\u001b[m\u001b[m\r\n",
      "sentiment_analysis.ipynb\r\n"
     ]
    }
   ],
   "source": [
    "!ls"
   ]
  },
  {
   "cell_type": "code",
   "execution_count": 20,
   "metadata": {},
   "outputs": [],
   "source": [
    "train = pd.read_csv('./ai_challenger_sentiment_analysis_trainingset_20180816/sentiment_analysis_trainingset.csv')\n",
    "valid = pd.read_csv('./ai_challenger_sentiment_analysis_validationset_20180816/sentiment_analysis_validationset.csv')"
   ]
  },
  {
   "cell_type": "code",
   "execution_count": 36,
   "metadata": {},
   "outputs": [
    {
     "data": {
      "text/plain": [
       "Index(['id', 'content', 'location_traffic_convenience',\n",
       "       'location_distance_from_business_district', 'location_easy_to_find',\n",
       "       'service_wait_time', 'service_waiters_attitude',\n",
       "       'service_parking_convenience', 'service_serving_speed', 'price_level',\n",
       "       'price_cost_effective', 'price_discount', 'environment_decoration',\n",
       "       'environment_noise', 'environment_space', 'environment_cleaness',\n",
       "       'dish_portion', 'dish_taste', 'dish_look', 'dish_recommendation',\n",
       "       'others_overall_experience', 'others_willing_to_consume_again'],\n",
       "      dtype='object')"
      ]
     },
     "execution_count": 36,
     "metadata": {},
     "output_type": "execute_result"
    }
   ],
   "source": [
    "train.keys()"
   ]
  },
  {
   "cell_type": "code",
   "execution_count": 14,
   "metadata": {},
   "outputs": [],
   "source": [
    "location_list = ['location_traffic_convenience', \n",
    "                 'location_distance_from_business_district', \n",
    "                 'location_easy_to_find']"
   ]
  },
  {
   "cell_type": "code",
   "execution_count": 27,
   "metadata": {},
   "outputs": [
    {
     "data": {
      "text/plain": [
       "-6"
      ]
     },
     "execution_count": 27,
     "metadata": {},
     "output_type": "execute_result"
    }
   ],
   "source": [
    "sum(list(train[location_list].values)[0])"
   ]
  },
  {
   "cell_type": "code",
   "execution_count": 31,
   "metadata": {},
   "outputs": [],
   "source": [
    "y_location = [0 if sum(score) == -6 else 1 for score in list(train[location_list].values)]"
   ]
  },
  {
   "cell_type": "code",
   "execution_count": 33,
   "metadata": {},
   "outputs": [
    {
     "data": {
      "text/plain": [
       "[0, 0, 0, 0, 0, 0, 1, 0, 1, 1]"
      ]
     },
     "execution_count": 33,
     "metadata": {},
     "output_type": "execute_result"
    }
   ],
   "source": [
    "y_location[:10]"
   ]
  },
  {
   "cell_type": "code",
   "execution_count": 38,
   "metadata": {},
   "outputs": [],
   "source": [
    "service_list = ['service_wait_time', \n",
    "               'service_waiters_attitude', \n",
    "               'service_parking_convenience',\n",
    "               'service_serving_speed']"
   ]
  },
  {
   "cell_type": "code",
   "execution_count": 43,
   "metadata": {},
   "outputs": [
    {
     "data": {
      "text/plain": [
       "[1, 1, 1, 1, 1, 1, 1, 1, 1, 1]"
      ]
     },
     "execution_count": 43,
     "metadata": {},
     "output_type": "execute_result"
    }
   ],
   "source": [
    "y_service = [0 if sum(score) == -6 else 1 for score in list(train[service_list].values)]\n",
    "y_service[:10]"
   ]
  },
  {
   "cell_type": "code",
   "execution_count": 44,
   "metadata": {},
   "outputs": [
    {
     "data": {
      "text/plain": [
       "[1, 1, 1, 1, 0, 1, 1, 1, 1, 1]"
      ]
     },
     "execution_count": 44,
     "metadata": {},
     "output_type": "execute_result"
    }
   ],
   "source": [
    "price_list = ['price_level', \n",
    "              'price_cost_effective', \n",
    "              'price_discount']\n",
    "y_price = [0 if sum(score) == -6 else 1 for score in list(train[price_list].values)]\n",
    "y_price[:10]"
   ]
  },
  {
   "cell_type": "code",
   "execution_count": 45,
   "metadata": {},
   "outputs": [
    {
     "data": {
      "text/plain": [
       "[1, 1, 1, 1, 1, 1, 1, 1, 1, 1]"
      ]
     },
     "execution_count": 45,
     "metadata": {},
     "output_type": "execute_result"
    }
   ],
   "source": [
    "environment_list = [\n",
    "    'environment_decoration',\n",
    "    'environment_noise',\n",
    "    'environment_space',\n",
    "    'environment_cleaness',\n",
    "]\n",
    "y_env = [0 if sum(score) == -6 else 1 for score in list(train[environment_list].values)]\n",
    "y_env[:10]"
   ]
  },
  {
   "cell_type": "code",
   "execution_count": 47,
   "metadata": {},
   "outputs": [
    {
     "data": {
      "text/plain": [
       "[1, 1, 1, 1, 1, 1, 1, 1, 1, 1]"
      ]
     },
     "execution_count": 47,
     "metadata": {},
     "output_type": "execute_result"
    }
   ],
   "source": [
    "dish_list = [\n",
    "    'dish_portion',\n",
    "    'dish_taste',\n",
    "    'dish_look',\n",
    "    'dish_recommendation',\n",
    "]\n",
    "y_dish = [0 if sum(score) == -6 else 1 for score in list(train[dish_list].values)]\n",
    "y_dish[:10]"
   ]
  },
  {
   "cell_type": "code",
   "execution_count": 49,
   "metadata": {},
   "outputs": [
    {
     "data": {
      "text/plain": [
       "[1, 1, 1, 1, 1, 1, 1, 1, 1, 1]"
      ]
     },
     "execution_count": 49,
     "metadata": {},
     "output_type": "execute_result"
    }
   ],
   "source": [
    "others_list = [\n",
    "    'others_overall_experience',\n",
    "    'others_willing_to_consume_again'\n",
    "]\n",
    "y_other = [0 if sum(score) == -6 else 1 for score in list(train[others_list].values)]\n",
    "y_other[:10]"
   ]
  },
  {
   "cell_type": "code",
   "execution_count": 54,
   "metadata": {},
   "outputs": [
    {
     "data": {
      "text/plain": [
       "array([[0, 1, 1, 1, 1],\n",
       "       [0, 1, 1, 1, 1],\n",
       "       [0, 1, 1, 1, 1],\n",
       "       ...,\n",
       "       [0, 0, 1, 1, 1],\n",
       "       [1, 1, 1, 1, 1],\n",
       "       [1, 0, 1, 1, 1]])"
      ]
     },
     "execution_count": 54,
     "metadata": {},
     "output_type": "execute_result"
    }
   ],
   "source": [
    "y_train = np.array([y_location, y_service, y_env, y_dish, y_other]).T\n",
    "y_train"
   ]
  },
  {
   "cell_type": "code",
   "execution_count": 62,
   "metadata": {},
   "outputs": [],
   "source": [
    "content = train['content'].tolist()"
   ]
  },
  {
   "cell_type": "code",
   "execution_count": 87,
   "metadata": {},
   "outputs": [],
   "source": [
    "def sentence_to_token(sentences):\n",
    "    # remove extra character\n",
    "    clean_sentences = [' '.join(re.findall(re.compile('[\\w|\\d|]+'), sen)) for sen in sentences]\n",
    "    \n",
    "    jieba.enable_parallel(4)\n",
    "    \n",
    "    tokens = [' '.join(jieba.cut(sen)) for sen in clean_sentences]\n",
    "    return tokens"
   ]
  },
  {
   "cell_type": "code",
   "execution_count": 101,
   "metadata": {},
   "outputs": [],
   "source": [
    "tokens = sentence_to_token(content)"
   ]
  },
  {
   "cell_type": "code",
   "execution_count": 99,
   "metadata": {},
   "outputs": [],
   "source": [
    "from keras.preprocessing.text import Tokenizer\n",
    "from keras.preprocessing.sequence import pad_sequences\n",
    "import matplotlib.pyplot as plt\n",
    "%matplotlib inline"
   ]
  },
  {
   "cell_type": "code",
   "execution_count": 102,
   "metadata": {},
   "outputs": [],
   "source": [
    "tokenizer = Tokenizer(num_words=20000)\n",
    "tokenizer.fit_on_texts(tokens)\n",
    "\n",
    "train_sequences = tokenizer.texts_to_sequences(tokens)"
   ]
  },
  {
   "cell_type": "code",
   "execution_count": 103,
   "metadata": {},
   "outputs": [],
   "source": [
    "total_num = [len(token) for token in train_sequences]"
   ]
  },
  {
   "cell_type": "code",
   "execution_count": 104,
   "metadata": {},
   "outputs": [
    {
     "data": {
      "image/png": "[encoded data removed]",
      "text/plain": [
       "<Figure size 432x288 with 1 Axes>"
      ]
     },
     "metadata": {
      "needs_background": "light"
     },
     "output_type": "display_data"
    }
   ],
   "source": [
    "plt.hist(total_num,bins = np.arange(0,410,10))\n",
    "plt.show()"
   ]
  },
  {
   "cell_type": "code",
   "execution_count": 105,
   "metadata": {},
   "outputs": [
    {
     "data": {
      "text/plain": [
       "[7596,\n",
       " 7492,\n",
       " 25,\n",
       " 1,\n",
       " 13692,\n",
       " 148,\n",
       " 2,\n",
       " 144,\n",
       " 89,\n",
       " 1,\n",
       " 271,\n",
       " 100,\n",
       " 802,\n",
       " 2,\n",
       " 142,\n",
       " 9,\n",
       " 2641,\n",
       " 51,\n",
       " 13692,\n",
       " 3,\n",
       " 315,\n",
       " 79,\n",
       " 147,\n",
       " 144,\n",
       " 89,\n",
       " 56,\n",
       " 2,\n",
       " 10,\n",
       " 51,\n",
       " 32,\n",
       " 7080,\n",
       " 1,\n",
       " 417,\n",
       " 98,\n",
       " 459,\n",
       " 13692,\n",
       " 3,\n",
       " 92,\n",
       " 3495,\n",
       " 1087,\n",
       " 81,\n",
       " 1,\n",
       " 126,\n",
       " 1195,\n",
       " 582,\n",
       " 1,\n",
       " 1021,\n",
       " 3,\n",
       " 989,\n",
       " 1,\n",
       " 91,\n",
       " 2446,\n",
       " 2412,\n",
       " 2098,\n",
       " 1789,\n",
       " 3521,\n",
       " 2,\n",
       " 14,\n",
       " 19,\n",
       " 181,\n",
       " 14297,\n",
       " 19,\n",
       " 181,\n",
       " 7688,\n",
       " 10,\n",
       " 3,\n",
       " 468,\n",
       " 448,\n",
       " 1,\n",
       " 5660,\n",
       " 964,\n",
       " 192,\n",
       " 2,\n",
       " 1058,\n",
       " 56,\n",
       " 5660,\n",
       " 6785,\n",
       " 1,\n",
       " 1021,\n",
       " 88,\n",
       " 2,\n",
       " 1285,\n",
       " 5660,\n",
       " 9,\n",
       " 763,\n",
       " 10,\n",
       " 19,\n",
       " 19218,\n",
       " 2,\n",
       " 22,\n",
       " 8145,\n",
       " 1,\n",
       " 130,\n",
       " 599,\n",
       " 5660,\n",
       " 1,\n",
       " 206,\n",
       " 7,\n",
       " 49,\n",
       " 1824,\n",
       " 36,\n",
       " 21,\n",
       " 1382,\n",
       " 5660,\n",
       " 207,\n",
       " 10,\n",
       " 211,\n",
       " 802,\n",
       " 1,\n",
       " 147,\n",
       " 100,\n",
       " 38,\n",
       " 2,\n",
       " 72,\n",
       " 1520,\n",
       " 18252,\n",
       " 59]"
      ]
     },
     "execution_count": 105,
     "metadata": {},
     "output_type": "execute_result"
    }
   ],
   "source": [
    "train_sequences[0]"
   ]
  }
 ],
 "metadata": {
  "kernelspec": {
   "display_name": "Python 3",
   "language": "python",
   "name": "python3"
  },
  "language_info": {
   "codemirror_mode": {
    "name": "ipython",
    "version": 3
   },
   "file_extension": ".py",
   "mimetype": "text/x-python",
   "name": "python",
   "nbconvert_exporter": "python",
   "pygments_lexer": "ipython3",
   "version": "3.7.1"
  }
 },
 "nbformat": 4,
 "nbformat_minor": 2
}
