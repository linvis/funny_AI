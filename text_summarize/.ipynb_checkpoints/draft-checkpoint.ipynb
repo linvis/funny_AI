{
 "cells": [
  {
   "cell_type": "code",
   "execution_count": 5,
   "metadata": {},
   "outputs": [],
   "source": [
    "def pangrank():\n",
    "    d = 0.85\n",
    "    pr = 1 / n\n",
    "    \n",
    "    pr = d * m * pr + (1 - d) / n\n",
    "    pass"
   ]
  },
  {
   "cell_type": "code",
   "execution_count": 94,
   "metadata": {},
   "outputs": [],
   "source": [
    "links = {\n",
    "    'webpage-1': set(['webpage-2', 'webpage-4', 'webpage-5', 'webpage-6', 'webpage-8', 'webpage-9', 'webpage-10']),\n",
    "    'webpage-2': set(['webpage-5', 'webpage-6']),\n",
    "    'webpage-3': set(['webpage-10']),\n",
    "    'webpage-4': set(['webpage-9']),\n",
    "    'webpage-5': set(['webpage-2', 'webpage-4']),\n",
    "    'webpage-6': set([]), # dangling page\n",
    "    'webpage-7': set(['webpage-1', 'webpage-3', 'webpage-4']),\n",
    "    'webpage-8': set(['webpage-1']),\n",
    "    'webpage-9': set(['webpage-1', 'webpage-2', 'webpage-3', 'webpage-8', 'webpage-10']),\n",
    "    'webpage-10': set(['webpage-2', 'webpage-3', 'webpage-8', 'webpage-9']),\n",
    "}"
   ]
  },
  {
   "cell_type": "code",
   "execution_count": 103,
   "metadata": {},
   "outputs": [],
   "source": [
    "def build_idx(links):\n",
    "    return {web:str(idx) for idx, web in enumerate(list(links.keys()))}"
   ]
  },
  {
   "cell_type": "code",
   "execution_count": 104,
   "metadata": {},
   "outputs": [
    {
     "data": {
      "text/plain": [
       "{'webpage-1': '0',\n",
       " 'webpage-2': '1',\n",
       " 'webpage-3': '2',\n",
       " 'webpage-4': '3',\n",
       " 'webpage-5': '4',\n",
       " 'webpage-6': '5',\n",
       " 'webpage-7': '6',\n",
       " 'webpage-8': '7',\n",
       " 'webpage-9': '8',\n",
       " 'webpage-10': '9'}"
      ]
     },
     "execution_count": 104,
     "metadata": {},
     "output_type": "execute_result"
    }
   ],
   "source": [
    "build_idx(links)"
   ]
  },
  {
   "cell_type": "code",
   "execution_count": 108,
   "metadata": {},
   "outputs": [],
   "source": [
    "def build_graph(links):\n",
    "    links_idx = build_idx(links)\n",
    "    graph = {}\n",
    "    \n",
    "    for key, val in links.items():\n",
    "        graph[links_idx[key]] = [links_idx[v] for v in val]\n",
    "    \n",
    "    return graph"
   ]
  },
  {
   "cell_type": "code",
   "execution_count": 109,
   "metadata": {},
   "outputs": [
    {
     "data": {
      "text/plain": [
       "{'0': ['4', '5', '8', '9', '3', '1', '7'],\n",
       " '1': ['4', '5'],\n",
       " '2': ['9'],\n",
       " '3': ['8'],\n",
       " '4': ['1', '3'],\n",
       " '5': [],\n",
       " '6': ['2', '0', '3'],\n",
       " '7': ['0'],\n",
       " '8': ['2', '0', '9', '1', '7'],\n",
       " '9': ['2', '1', '8', '7']}"
      ]
     },
     "execution_count": 109,
     "metadata": {},
     "output_type": "execute_result"
    }
   ],
   "source": [
    "build_graph(links)"
   ]
  }
 ],
 "metadata": {
  "kernelspec": {
   "display_name": "Python 3",
   "language": "python",
   "name": "python3"
  },
  "language_info": {
   "codemirror_mode": {
    "name": "ipython",
    "version": 3
   },
   "file_extension": ".py",
   "mimetype": "text/x-python",
   "name": "python",
   "nbconvert_exporter": "python",
   "pygments_lexer": "ipython3",
   "version": "3.7.3"
  }
 },
 "nbformat": 4,
 "nbformat_minor": 2
}
