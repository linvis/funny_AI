{
 "cells": [
  {
   "cell_type": "code",
   "execution_count": 111,
   "metadata": {},
   "outputs": [],
   "source": [
    "import numpy as np"
   ]
  },
  {
   "cell_type": "code",
   "execution_count": 94,
   "metadata": {},
   "outputs": [],
   "source": [
    "links = {\n",
    "    'webpage-1': set(['webpage-2', 'webpage-4', 'webpage-5', 'webpage-6', 'webpage-8', 'webpage-9', 'webpage-10']),\n",
    "    'webpage-2': set(['webpage-5', 'webpage-6']),\n",
    "    'webpage-3': set(['webpage-10']),\n",
    "    'webpage-4': set(['webpage-9']),\n",
    "    'webpage-5': set(['webpage-2', 'webpage-4']),\n",
    "    'webpage-6': set([]), # dangling page\n",
    "    'webpage-7': set(['webpage-1', 'webpage-3', 'webpage-4']),\n",
    "    'webpage-8': set(['webpage-1']),\n",
    "    'webpage-9': set(['webpage-1', 'webpage-2', 'webpage-3', 'webpage-8', 'webpage-10']),\n",
    "    'webpage-10': set(['webpage-2', 'webpage-3', 'webpage-8', 'webpage-9']),\n",
    "}"
   ]
  },
  {
   "cell_type": "code",
   "execution_count": 103,
   "metadata": {},
   "outputs": [],
   "source": [
    "def build_idx(links):\n",
    "    return {web:str(idx) for idx, web in enumerate(list(links.keys()))}"
   ]
  },
  {
   "cell_type": "code",
   "execution_count": 104,
   "metadata": {},
   "outputs": [
    {
     "data": {
      "text/plain": [
       "{'webpage-1': '0',\n",
       " 'webpage-2': '1',\n",
       " 'webpage-3': '2',\n",
       " 'webpage-4': '3',\n",
       " 'webpage-5': '4',\n",
       " 'webpage-6': '5',\n",
       " 'webpage-7': '6',\n",
       " 'webpage-8': '7',\n",
       " 'webpage-9': '8',\n",
       " 'webpage-10': '9'}"
      ]
     },
     "execution_count": 104,
     "metadata": {},
     "output_type": "execute_result"
    }
   ],
   "source": [
    "build_idx(links)"
   ]
  },
  {
   "cell_type": "code",
   "execution_count": 128,
   "metadata": {},
   "outputs": [],
   "source": [
    "def build_graph(links):\n",
    "    links_idx = build_idx(links)\n",
    "    graph = {}\n",
    "    \n",
    "    for key, val in links.items():\n",
    "        graph[links_idx[key]] = [links_idx[v] for v in val]\n",
    "    \n",
    "    return graph"
   ]
  },
  {
   "cell_type": "code",
   "execution_count": 129,
   "metadata": {},
   "outputs": [
    {
     "data": {
      "text/plain": [
       "{'0': ['4', '5', '8', '9', '3', '1', '7'],\n",
       " '1': ['4', '5'],\n",
       " '2': ['9'],\n",
       " '3': ['8'],\n",
       " '4': ['1', '3'],\n",
       " '5': [],\n",
       " '6': ['2', '0', '3'],\n",
       " '7': ['0'],\n",
       " '8': ['2', '0', '9', '1', '7'],\n",
       " '9': ['2', '1', '8', '7']}"
      ]
     },
     "execution_count": 129,
     "metadata": {},
     "output_type": "execute_result"
    }
   ],
   "source": [
    "graph = build_graph(links)\n",
    "graph"
   ]
  },
  {
   "cell_type": "code",
   "execution_count": 269,
   "metadata": {},
   "outputs": [],
   "source": [
    "def build_matrix(graph):\n",
    "    n = len(graph)\n",
    "    matrix = np.zeros((n, n))\n",
    "    \n",
    "    for i in range(n):\n",
    "        if not graph[str(i)]:\n",
    "            matrix[i,:] = np.ones((1, n)) * 1 / n\n",
    "        \n",
    "        for j in graph[str(i)]:\n",
    "            matrix[i][int(j)] = 1 / len(graph[str(i)])\n",
    "    \n",
    "    return matrix"
   ]
  },
  {
   "cell_type": "code",
   "execution_count": 270,
   "metadata": {},
   "outputs": [
    {
     "data": {
      "text/plain": [
       "array([[0.        , 0.14285714, 0.        , 0.14285714, 0.14285714,\n",
       "        0.14285714, 0.        , 0.14285714, 0.14285714, 0.14285714],\n",
       "       [0.        , 0.        , 0.        , 0.        , 0.5       ,\n",
       "        0.5       , 0.        , 0.        , 0.        , 0.        ],\n",
       "       [0.        , 0.        , 0.        , 0.        , 0.        ,\n",
       "        0.        , 0.        , 0.        , 0.        , 1.        ],\n",
       "       [0.        , 0.        , 0.        , 0.        , 0.        ,\n",
       "        0.        , 0.        , 0.        , 1.        , 0.        ],\n",
       "       [0.        , 0.5       , 0.        , 0.5       , 0.        ,\n",
       "        0.        , 0.        , 0.        , 0.        , 0.        ],\n",
       "       [0.1       , 0.1       , 0.1       , 0.1       , 0.1       ,\n",
       "        0.1       , 0.1       , 0.1       , 0.1       , 0.1       ],\n",
       "       [0.33333333, 0.        , 0.33333333, 0.33333333, 0.        ,\n",
       "        0.        , 0.        , 0.        , 0.        , 0.        ],\n",
       "       [1.        , 0.        , 0.        , 0.        , 0.        ,\n",
       "        0.        , 0.        , 0.        , 0.        , 0.        ],\n",
       "       [0.2       , 0.2       , 0.2       , 0.        , 0.        ,\n",
       "        0.        , 0.        , 0.2       , 0.        , 0.2       ],\n",
       "       [0.        , 0.25      , 0.25      , 0.        , 0.        ,\n",
       "        0.        , 0.        , 0.25      , 0.25      , 0.        ]])"
      ]
     },
     "execution_count": 270,
     "metadata": {},
     "output_type": "execute_result"
    }
   ],
   "source": [
    "A = build_matrix(graph)\n",
    "A"
   ]
  },
  {
   "cell_type": "code",
   "execution_count": 276,
   "metadata": {},
   "outputs": [],
   "source": [
    "def pangrank(matrix, eps = 1.0e-8, d = 0.85):\n",
    "    \n",
    "    n = matrix.shape[0]\n",
    "    R = np.ones((n, 1)) * 1 / n\n",
    "    new_R = np.zeros((n, 1))\n",
    "    E = np.ones((n, n))\n",
    "\n",
    "    while True:\n",
    "        new_R = ((1 - d) / n * E + d * matrix.T).dot(R)\n",
    "        if np.linalg.norm(new_R - R) <= eps:\n",
    "            break\n",
    "        else:\n",
    "            R = new_R\n",
    "    \n",
    "    return new_R"
   ]
  },
  {
   "cell_type": "code",
   "execution_count": 277,
   "metadata": {},
   "outputs": [
    {
     "data": {
      "text/plain": [
       "array([[0.13009588],\n",
       "       [0.13050742],\n",
       "       [0.08116303],\n",
       "       [0.08539887],\n",
       "       [0.09427651],\n",
       "       [0.09427651],\n",
       "       [0.0230135 ],\n",
       "       [0.0904399 ],\n",
       "       [0.13934097],\n",
       "       [0.13148741]])"
      ]
     },
     "execution_count": 277,
     "metadata": {},
     "output_type": "execute_result"
    }
   ],
   "source": [
    "pangrank(A)"
   ]
  },
  {
   "cell_type": "code",
   "execution_count": 245,
   "metadata": {},
   "outputs": [],
   "source": [
    "g = nx.DiGraph(graph)"
   ]
  },
  {
   "cell_type": "code",
   "execution_count": 278,
   "metadata": {},
   "outputs": [
    {
     "data": {
      "text/plain": [
       "{'0': 0.1300956900118335,\n",
       " '1': 0.13050776900162686,\n",
       " '2': 0.08116315448394983,\n",
       " '3': 0.08539910029620076,\n",
       " '4': 0.09427630133632156,\n",
       " '5': 0.09427630133632156,\n",
       " '6': 0.023013537818899983,\n",
       " '7': 0.09044007990712699,\n",
       " '8': 0.1393406839069631,\n",
       " '9': 0.13148738190075582}"
      ]
     },
     "execution_count": 278,
     "metadata": {},
     "output_type": "execute_result"
    }
   ],
   "source": [
    "#G = nx.DiGraph(nx.path_graph(4))\n",
    "pr = nx.pagerank(g)\n",
    "pr"
   ]
  },
  {
   "cell_type": "code",
   "execution_count": null,
   "metadata": {},
   "outputs": [],
   "source": [
    "def sentence_similarity():\n",
    "    \n",
    "    pass"
   ]
  }
 ],
 "metadata": {
  "kernelspec": {
   "display_name": "Python 3",
   "language": "python",
   "name": "python3"
  },
  "language_info": {
   "codemirror_mode": {
    "name": "ipython",
    "version": 3
   },
   "file_extension": ".py",
   "mimetype": "text/x-python",
   "name": "python",
   "nbconvert_exporter": "python",
   "pygments_lexer": "ipython3",
   "version": "3.7.3"
  }
 },
 "nbformat": 4,
 "nbformat_minor": 2
}
